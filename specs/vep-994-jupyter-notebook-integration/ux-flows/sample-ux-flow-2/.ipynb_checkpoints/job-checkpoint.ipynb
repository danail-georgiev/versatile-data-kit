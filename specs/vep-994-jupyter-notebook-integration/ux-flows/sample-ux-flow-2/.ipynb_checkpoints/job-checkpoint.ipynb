{
 "cells": [
  {
   "cell_type": "code",
   "execution_count": null,
   "id": "dc0421fa-ba3d-4032-bfef-860dbe172820",
   "metadata": {
    "tags": [
     "vdk"
    ]
   },
   "outputs": [],
   "source": [
    "import numpy as np\n",
    "import pandas as pd\n",
    "\n",
    "from IPython.display import display"
   ]
  },
  {
   "cell_type": "markdown",
   "id": "061985a9-ebe8-46e5-873e-609e60835204",
   "metadata": {
    "tags": []
   },
   "source": [
    "<h3>Drop tables</h3>"
   ]
  },
  {
   "cell_type": "code",
   "execution_count": null,
   "id": "1992aa4f-d2b3-4298-b410-c7e5afdc966c",
   "metadata": {
    "tags": [
     "vdk"
    ]
   },
   "outputs": [],
   "source": [
    "%sql DROP TABLE IF EXISTS life_expectancy_2010_2015"
   ]
  },
  {
   "cell_type": "code",
   "execution_count": null,
   "id": "93de5be0-d58d-4742-b691-aba2104ac77a",
   "metadata": {
    "tags": [
     "vdk"
    ]
   },
   "outputs": [],
   "source": [
    "%sql DROP TABLE IF EXISTS life_expectancy_2018"
   ]
  },
  {
   "cell_type": "code",
   "execution_count": null,
   "id": "55dc20d7-ebd4-48ef-8027-225a6682917d",
   "metadata": {
    "tags": [
     "vdk"
    ]
   },
   "outputs": [],
   "source": [
    "%sql DROP TABLE IF EXISTS us_regions"
   ]
  },
  {
   "cell_type": "code",
   "execution_count": null,
   "id": "b77a2c5b-5759-4aaa-9bcd-0cffeccaaa97",
   "metadata": {
    "tags": [
     "vdk"
    ]
   },
   "outputs": [],
   "source": [
    "%sql DROP TABLE IF EXISTS us_gdp"
   ]
  },
  {
   "cell_type": "markdown",
   "id": "e61cd90e-b3cd-43af-9027-8bce2f1567e7",
   "metadata": {},
   "source": [
    "<h3>Create</h3>\n"
   ]
  },
  {
   "cell_type": "code",
   "execution_count": null,
   "id": "0b088bc8-8695-4368-911b-5144c13fdab7",
   "metadata": {
    "tags": [
     "vdk"
    ]
   },
   "outputs": [],
   "source": [
    "%sql CREATE TABLE life_expectancy_2010_2015 (\n",
    "    State varchar,\n",
    "    County varchar,\n",
    "    CensusTractNumber varchar,\n",
    "    LifeExpectancy decimal(4,2),\n",
    "    LifeExpectancyRange varchar,\n",
    "    LifeExpectancyStandardError decimal(4,2)\n",
    ")"
   ]
  },
  {
   "cell_type": "code",
   "execution_count": null,
   "id": "2f98b5af-2220-42c8-99ce-ac8ea265c092",
   "metadata": {
    "tags": [
     "vdk",
     "group1"
    ]
   },
   "outputs": [],
   "source": [
    "%sql CREATE TABLE life_expectancy_2018 (\n",
    "    State varchar,\n",
    "    Sex varchar,\n",
    "    LEB decimal(3,1),\n",
    "    SE decimal(3,1),\n",
    "    Quartile varchar\n",
    ")"
   ]
  },
  {
   "cell_type": "code",
   "execution_count": null,
   "id": "11f00f71-a367-4246-bbfb-0723ac41fb04",
   "metadata": {
    "tags": [
     "vdk",
     "group1"
    ]
   },
   "outputs": [],
   "source": [
    "%sql CREATE TABLE us_regions (\n",
    "    State varchar,\n",
    "    StateCode varchar(2),\n",
    "    Region varchar,\n",
    "    Division varchar\n",
    ")"
   ]
  },
  {
   "cell_type": "code",
   "execution_count": null,
   "id": "42cc39de-e238-485a-b4f4-28840f47a8be",
   "metadata": {
    "tags": [
     "vdk"
    ]
   },
   "outputs": [],
   "source": [
    "%sql CREATE TABLE us_gdp (\n",
    "    County varchar,\n",
    "    Year2017 bigint,\n",
    "    Year2018 bigint,\n",
    "    Year2019 bigint,\n",
    "    Year2020 bigint\n",
    ")"
   ]
  },
  {
   "cell_type": "markdown",
   "id": "960b3d53-e226-493d-a77a-8cfdea541528",
   "metadata": {},
   "source": [
    "<h3>Ingest Table Life expectancy 2010-2015</h3>"
   ]
  },
  {
   "cell_type": "code",
   "execution_count": null,
   "id": "0ec4019f-dfd9-494e-99c3-0ff2210e1b14",
   "metadata": {
    "tags": [
     "vdk"
    ]
   },
   "outputs": [],
   "source": [
    "def get_df():\n",
    "    url = \"http://data.cdc.gov/api/views/5h56-n989/rows.csv\"\n",
    "    dtypes = {\n",
    "        \"State\": str,\n",
    "        \"County\": str,\n",
    "        \"Census Tract Number\": str,\n",
    "        \"Life Expectancy\": np.float64,\n",
    "        \"Life Expectancy Range\": str,\n",
    "        \"Life Expectancy Standard Error\": np.float64,\n",
    "    }\n",
    "    df = pd.read_csv(url, dtype=dtypes).replace(\"'\", \"''\", regex=True)\n",
    "    return df"
   ]
  },
  {
   "cell_type": "code",
   "execution_count": null,
   "id": "15874017-0f1a-4a86-a0b4-ffbcccbab648",
   "metadata": {
    "tags": [
     "vdk"
    ]
   },
   "outputs": [],
   "source": [
    "def refactor_df(df):\n",
    "    df.columns = df.columns.str.replace(\" \", \"\")\n",
    "    return df"
   ]
  },
  {
   "cell_type": "code",
   "execution_count": null,
   "id": "8f2c0592-148e-43ce-a2e5-3c5da9034ca9",
   "metadata": {},
   "outputs": [],
   "source": [
    "def refactor_df_in_other_way(df):\n",
    "    #do some changes on df\n",
    "    return df"
   ]
  },
  {
   "cell_type": "code",
   "execution_count": null,
   "id": "fa3f8424-44b5-463f-869e-6367a15c876f",
   "metadata": {
    "tags": [
     "vdk"
    ]
   },
   "outputs": [],
   "source": [
    "def run(job_input: IJobInput):\n",
    "    df = refactor_df(get_df())\n",
    "    job_input.send_tabular_data_for_ingestion(\n",
    "        df.itertuples(index=False),\n",
    "        destination_table=\"life_expectancy_2010_2015\",\n",
    "        column_names=df.columns.tolist(),\n",
    "    )"
   ]
  },
  {
   "cell_type": "markdown",
   "id": "731b4dc4-9c17-45bb-b5bc-7aae44b34dec",
   "metadata": {
    "jp-MarkdownHeadingCollapsed": true,
    "tags": [
     "vdk"
    ]
   },
   "source": [
    "<h5>Tests</h5>"
   ]
  },
  {
   "cell_type": "code",
   "execution_count": null,
   "id": "59508f87-0078-4a9a-a79f-1a38e0144706",
   "metadata": {},
   "outputs": [],
   "source": [
    "df = get_df()"
   ]
  },
  {
   "cell_type": "code",
   "execution_count": null,
   "id": "a3e4494f-844e-4845-aa49-5abb962f5851",
   "metadata": {},
   "outputs": [],
   "source": [
    "refactor_df(df)\n",
    "display(df)"
   ]
  },
  {
   "cell_type": "code",
   "execution_count": null,
   "id": "e6288d92-b4a3-4882-834a-80f38a75d9d4",
   "metadata": {},
   "outputs": [],
   "source": [
    "refactor_df_in_other_way(df)\n",
    "display(df)"
   ]
  },
  {
   "cell_type": "markdown",
   "id": "21c20f4e-cb40-49a0-9da3-be6dbbd4d438",
   "metadata": {},
   "source": [
    "<h3>Ingest Table Life expectancy 2018</h3>"
   ]
  },
  {
   "cell_type": "code",
   "execution_count": null,
   "id": "d598f42a-8d0c-4508-b13a-c742e230ec18",
   "metadata": {
    "tags": [
     "vdk"
    ]
   },
   "outputs": [],
   "source": [
    "\n",
    "%run-start\n",
    " url = \"http://data.cdc.gov/api/views/a5a8-jsrq/rows.csv\"\n",
    "\n",
    "    dtypes = {\n",
    "        \"State\": str,\n",
    "        \"Sex\": str,\n",
    "        \"LEB\": np.float64,\n",
    "        \"SE\": np.float64,\n",
    "        \"Quartile\": str,\n",
    "    }"
   ]
  },
  {
   "cell_type": "code",
   "execution_count": null,
   "id": "5be8c36e-6f12-4086-9383-306a954616d2",
   "metadata": {
    "tags": [
     "vdk"
    ]
   },
   "outputs": [],
   "source": [
    " df = pd.read_csv(url, dtype=dtypes, na_values=\"*\")"
   ]
  },
  {
   "cell_type": "code",
   "execution_count": null,
   "id": "20a5a8b1-2526-4a67-93fe-8b71f792d0f9",
   "metadata": {},
   "outputs": [],
   "source": [
    "display(df)"
   ]
  },
  {
   "cell_type": "code",
   "execution_count": null,
   "id": "a911c6f7-8eb9-409a-a4d1-faec3b479fd8",
   "metadata": {
    "tags": [
     "vdk"
    ]
   },
   "outputs": [],
   "source": [
    "job_input.send_tabular_data_for_ingestion(\n",
    "        df.itertuples(index=False),\n",
    "        destination_table=\"life_expectancy_2018\",\n",
    "        column_names=df.columns.tolist(),\n",
    ")\n",
    "%run-end\n"
   ]
  },
  {
   "cell_type": "markdown",
   "id": "70664f69-a780-4328-b687-9c52684b96fe",
   "metadata": {},
   "source": [
    "<h3>Ingest Table US regions</h3>"
   ]
  },
  {
   "cell_type": "code",
   "execution_count": null,
   "id": "d47e19b7-15b4-4afe-93a9-a742bf0d737a",
   "metadata": {
    "tags": [
     "vdk"
    ]
   },
   "outputs": [],
   "source": [
    "def get_df():\n",
    "    url = \"https://raw.githubusercontent.com/cphalpert/census-regions/master/us%20census%20bureau%20regions%20and%20divisions.csv\"\n",
    "    df = pd.read_csv(url, sep=\",\")\n",
    "    return df"
   ]
  },
  {
   "cell_type": "code",
   "execution_count": null,
   "id": "a77126d2-9df6-4a15-aebe-e292c8d6ff57",
   "metadata": {
    "tags": [
     "vdk"
    ]
   },
   "outputs": [],
   "source": [
    "def refactor_df(df):\n",
    "    df.columns = df.columns.str.replace(\" \", \"\")\n",
    "    return df"
   ]
  },
  {
   "cell_type": "code",
   "execution_count": null,
   "id": "6236911a-dc8f-4099-b35f-e528a08a4c76",
   "metadata": {
    "tags": [
     "vdk"
    ]
   },
   "outputs": [],
   "source": [
    "def run(job_input: IJobInput):\n",
    "    df = refactor_df(get_df())\n",
    "    job_input.send_tabular_data_for_ingestion(\n",
    "        df.itertuples(index=False),\n",
    "        destination_table=\"us_regions\",\n",
    "        column_names=df.columns.tolist(),\n",
    "    )"
   ]
  },
  {
   "cell_type": "markdown",
   "id": "8d90ac3f-a750-4bb8-a2f9-92bf5e204b14",
   "metadata": {},
   "source": [
    "<h3>Ingest Table US gdp</h3>"
   ]
  },
  {
   "cell_type": "code",
   "execution_count": null,
   "id": "a6bb46db-3b03-4ee9-a618-4e450ec68a79",
   "metadata": {
    "tags": [
     "vdk"
    ]
   },
   "outputs": [],
   "source": [
    "%run-start\n",
    "url = \"https://www.bea.gov/sites/default/files/2021-12/lagdp1221.xlsx\"\n",
    "df = pd.read_excel(url, header=3, na_values=\"(NA)\").replace(\"'\", \"''\", regex=True)"
   ]
  },
  {
   "cell_type": "code",
   "execution_count": null,
   "id": "cc6eff19-18a3-4710-84ce-0d797fc6af52",
   "metadata": {
    "tags": [
     "vdk"
    ]
   },
   "outputs": [],
   "source": [
    "df = df[[\"Unnamed: 0\", 2017, 2018, 2019, 2020]]"
   ]
  },
  {
   "cell_type": "code",
   "execution_count": null,
   "id": "31a3ef71-495b-4ff6-a2ba-a93958ddd480",
   "metadata": {
    "tags": [
     "vdk"
    ]
   },
   "outputs": [],
   "source": [
    " df.rename(\n",
    "        {\n",
    "            \"Unnamed: 0\": \"County\",\n",
    "            2017: \"Year2017\",\n",
    "            2018: \"Year2018\",\n",
    "            2019: \"Year2019\",\n",
    "            2020: \"Year2020\",\n",
    "        },\n",
    "        axis=1,\n",
    "        inplace=True,\n",
    "    )\n",
    "    df.dropna(axis=0, inplace=True)"
   ]
  },
  {
   "cell_type": "code",
   "execution_count": null,
   "id": "9c2068bd-d8fb-4f2c-bdca-ee547ce2e167",
   "metadata": {
    "tags": [
     "vdk"
    ]
   },
   "outputs": [],
   "source": [
    " job_input.send_tabular_data_for_ingestion(\n",
    "        df.itertuples(index=False),\n",
    "        destination_table=\"us_gdp\",\n",
    "        column_names=df.columns.tolist(),\n",
    "    )\n",
    "%run-end"
   ]
  },
  {
   "cell_type": "markdown",
   "id": "e2247357-4431-42e3-acc2-d3e317ad4fae",
   "metadata": {},
   "source": [
    "<h3>Delete tables</h3>"
   ]
  },
  {
   "cell_type": "code",
   "execution_count": null,
   "id": "335a2496-72db-4328-9dc5-df43545b4c93",
   "metadata": {
    "tags": [
     "vdk"
    ]
   },
   "outputs": [],
   "source": [
    "%sql DROP TABLE IF EXISTS cleaned_life_expectancy_2010_2015"
   ]
  },
  {
   "cell_type": "code",
   "execution_count": null,
   "id": "68e59222-dff4-4f90-95a5-881f5db45779",
   "metadata": {
    "tags": [
     "vdk"
    ]
   },
   "outputs": [],
   "source": [
    "%sql DROP TABLE IF EXISTS cleaned_life_expectancy_2018"
   ]
  },
  {
   "cell_type": "code",
   "execution_count": null,
   "id": "1fdca1f6-8a49-4618-b9a9-779afa2a253a",
   "metadata": {
    "tags": [
     "vdk"
    ]
   },
   "outputs": [],
   "source": [
    "%sql DROP TABLE IF EXISTS merged_life_expectancy"
   ]
  },
  {
   "cell_type": "markdown",
   "id": "6b3935b1-4f23-455a-bab6-57ff4c790add",
   "metadata": {},
   "source": [
    "<h3>Create and merge clean tables</h3>"
   ]
  },
  {
   "cell_type": "code",
   "execution_count": null,
   "id": "ec14366a-67b0-4d06-8859-425efc90ddad",
   "metadata": {
    "tags": [
     "vdk"
    ]
   },
   "outputs": [],
   "source": [
    "%sql CREATE TABLE cleaned_life_expectancy_2010_2015 AS\n",
    "(SELECT State,\n",
    "    LifeExpectancy,\n",
    "    cast(split(life_expectancy_2010_2015.LifeExpectancyRange,'-')[1] AS decimal(4,2)) AS MinLifeExpectancyRange,\n",
    "    cast(split(life_expectancy_2010_2015.LifeExpectancyRange,'-')[2] AS decimal(4,2)) AS MaxLifeExpectancyRange,\n",
    "    LifeExpectancyStandardError\n",
    "FROM life_expectancy_2010_2015\n",
    "WHERE County = '(blank)'\n",
    ")"
   ]
  },
  {
   "cell_type": "code",
   "execution_count": null,
   "id": "59639fc5-d9ba-486f-8640-140a017f9681",
   "metadata": {
    "tags": [
     "vdk"
    ]
   },
   "outputs": [],
   "source": [
    "%sql CREATE TABLE cleaned_life_expectancy_2018 AS\n",
    "(SELECT State,\n",
    "    LEB AS LifeExpectancy,\n",
    "    cast(split(life_expectancy_2018.Quartile,' - ')[1] AS decimal(4,2)) AS MinLifeExpectancyRange,\n",
    "    cast(split(life_expectancy_2018.Quartile,' - ')[2] AS decimal(4,2)) AS MaxLifeExpectancyRange,\n",
    "    SE AS LifeExpectancyStandardError\n",
    "FROM life_expectancy_2018\n",
    "WHERE Sex = 'Total' and State <> 'United States'\n",
    ")"
   ]
  },
  {
   "cell_type": "code",
   "execution_count": null,
   "id": "6ed26a04-5312-4e0d-9066-c7ab9bb85f9f",
   "metadata": {
    "tags": [
     "vdk"
    ]
   },
   "outputs": [],
   "source": [
    "%sql CREATE TABLE merged_life_expectancy AS\n",
    "(SELECT us_regions.State,\n",
    "    LifeExpectancy,\n",
    "    MinLifeExpectancyRange,\n",
    "    MaxLifeExpectancyRange,\n",
    "    '2010-2015' AS Period,\n",
    "    Region,\n",
    "    0 AS GDP\n",
    "FROM\n",
    "    cleaned_life_expectancy_2010_2015 JOIN us_regions ON us_regions.State = cleaned_life_expectancy_2010_2015.State\n",
    ")\n",
    "UNION\n",
    "(SELECT us_regions.State,\n",
    "    LifeExpectancy,\n",
    "    MinLifeExpectancyRange,\n",
    "    MaxLifeExpectancyRange,\n",
    "    '2018' AS Period,\n",
    "    Region,\n",
    "    Year2018 AS GDP\n",
    "FROM cleaned_life_expectancy_2018\n",
    "    JOIN us_regions ON us_regions.State = cleaned_life_expectancy_2018.State\n",
    "    INNER JOIN us_gdp ON us_gdp.County = cleaned_life_expectancy_2018.State\n",
    "WHERE Year2018 > 100000000\n",
    ")"
   ]
  }
 ],
 "metadata": {
  "kernelspec": {
   "display_name": "Python 3 (ipykernel)",
   "language": "python",
   "name": "python3"
  },
  "language_info": {
   "codemirror_mode": {
    "name": "ipython",
    "version": 3
   },
   "file_extension": ".py",
   "mimetype": "text/x-python",
   "name": "python",
   "nbconvert_exporter": "python",
   "pygments_lexer": "ipython3",
   "version": "3.10.6"
  }
 },
 "nbformat": 4,
 "nbformat_minor": 5
}
