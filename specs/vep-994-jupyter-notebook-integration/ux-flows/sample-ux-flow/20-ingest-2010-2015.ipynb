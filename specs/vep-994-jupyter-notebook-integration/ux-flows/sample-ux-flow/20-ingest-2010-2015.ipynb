{
 "cells": [
  {
   "cell_type": "code",
   "execution_count": null,
   "id": "1dcf28ca-ffdc-4ee8-806d-32541e50f76a",
   "metadata": {
    "tags": [
     "vdk-py"
    ]
   },
   "outputs": [],
   "source": [
    "import pandas as pd"
   ]
  },
  {
   "cell_type": "code",
   "execution_count": null,
   "id": "53151d2f-031e-44ef-b18c-f481ed6e3201",
   "metadata": {},
   "outputs": [],
   "source": [
    "from IPython.display import display"
   ]
  },
  {
   "cell_type": "code",
   "execution_count": null,
   "id": "097989b3-e006-41f5-b20b-4d830818f332",
   "metadata": {
    "tags": [
     "vdk-py"
    ]
   },
   "outputs": [],
   "source": [
    "%vdk-run-start\n",
    " url = \"http://data.cdc.gov/api/views/5h56-n989/rows.csv\"\n",
    "   dtypes = {\n",
    "      \"State\": str,\n",
    "      \"County\": str,\n",
    "      \"Census Tract Number\": str,\n",
    "      \"Life Expectancy\": np.float64,\n",
    "      \"Life Expectancy Range\": str,\n",
    "      \"Life Expectancy Standard Error\": np.float64,\n",
    "   }"
   ]
  },
  {
   "cell_type": "code",
   "execution_count": null,
   "id": "a7f8223d-14f5-4214-b866-e1f046caec28",
   "metadata": {
    "tags": [
     "vdk-py"
    ]
   },
   "outputs": [],
   "source": [
    "df = pd.read_csv(url, dtype=dtypes).replace(\"'\", \"''\", regex=True)"
   ]
  },
  {
   "cell_type": "code",
   "execution_count": null,
   "id": "7d3d57f8-4c0c-474d-b576-ac888e02d6c6",
   "metadata": {},
   "outputs": [],
   "source": [
    "display(df)"
   ]
  },
  {
   "cell_type": "code",
   "execution_count": null,
   "id": "35161c2b-4cc5-46b2-b674-08ba5d445618",
   "metadata": {
    "tags": [
     "vdk-py"
    ]
   },
   "outputs": [],
   "source": [
    "df.columns = df.columns.str.replace(\" \", \"\")"
   ]
  },
  {
   "cell_type": "code",
   "execution_count": null,
   "id": "29df7200-1e98-46c9-afc3-d4cf70355b78",
   "metadata": {},
   "outputs": [],
   "source": [
    "print(df.columns)"
   ]
  },
  {
   "cell_type": "code",
   "execution_count": null,
   "id": "6b9d988c-2fd6-4f92-9005-0b2176430049",
   "metadata": {
    "tags": [
     "vdk-py"
    ]
   },
   "outputs": [],
   "source": [
    "sayHello()"
   ]
  },
  {
   "cell_type": "code",
   "execution_count": null,
   "id": "4417a46b-766a-4ceb-b7df-cbd743d93279",
   "metadata": {
    "tags": []
   },
   "outputs": [],
   "source": [
    "job_input.send_tabular_data_for_ingestion(\n",
    "      df.itertuples(index=False),\n",
    "      destination_table=\"life_expectancy_2010_2015\",\n",
    "      column_names=df.columns.tolist()\n",
    " )\n",
    "%vdk-run-end"
   ]
  },
  {
   "cell_type": "code",
   "execution_count": null,
   "id": "4154e03a-6b1a-4c87-bde8-1db42a9039f9",
   "metadata": {
    "tags": [
     "vdk-py"
    ]
   },
   "outputs": [],
   "source": [
    "def sayHello():\n",
    "    print(\"hello\")"
   ]
  }
 ],
 "metadata": {
  "kernelspec": {
   "display_name": "Python 3 (ipykernel)",
   "language": "python",
   "name": "python3"
  },
  "language_info": {
   "codemirror_mode": {
    "name": "ipython",
    "version": 3
   },
   "file_extension": ".py",
   "mimetype": "text/x-python",
   "name": "python",
   "nbconvert_exporter": "python",
   "pygments_lexer": "ipython3",
   "version": "3.10.6"
  }
 },
 "nbformat": 4,
 "nbformat_minor": 5
}
