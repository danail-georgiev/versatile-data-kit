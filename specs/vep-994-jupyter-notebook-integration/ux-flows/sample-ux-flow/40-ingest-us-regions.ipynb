{
 "cells": [
  {
   "cell_type": "code",
   "execution_count": null,
   "id": "7bf470f4-eea3-4856-b7ae-f47d9e715552",
   "metadata": {
    "tags": [
     "vdk-py"
    ]
   },
   "outputs": [],
   "source": [
    "import pandas as pd"
   ]
  },
  {
   "cell_type": "code",
   "execution_count": null,
   "id": "b917b263-4f69-47fc-abaf-1aa68aab7057",
   "metadata": {},
   "outputs": [],
   "source": []
  },
  {
   "cell_type": "code",
   "execution_count": null,
   "id": "180198be-0a03-45a9-8913-de8d1d848f1c",
   "metadata": {
    "tags": [
     "vdk-py"
    ]
   },
   "outputs": [],
   "source": [
    "%vdk-run\n",
    " url = \"https://raw.githubusercontent.com/cphalpert/census-regions/master/us%20census%20bureau%20regions%20and%20divisions.csv\"\n",
    "df = pd.read_csv(url, sep=\",\")\n"
   ]
  },
  {
   "cell_type": "code",
   "execution_count": null,
   "id": "7a413785-0be2-4af8-b6e9-85a3e4a0d94c",
   "metadata": {
    "tags": [
     "vdk-py"
    ]
   },
   "outputs": [],
   "source": [
    "df.columns = df.columns.str.replace(\" \", \"\")"
   ]
  },
  {
   "cell_type": "code",
   "execution_count": null,
   "id": "ff9ce353-3dd7-41e6-b8bb-6ae7696118e6",
   "metadata": {
    "tags": [
     "vdk-py"
    ]
   },
   "outputs": [],
   "source": [
    "job_input.send_tabular_data_for_ingestion(\n",
    "        df.itertuples(index=False),\n",
    "        destination_table=\"us_regions\",\n",
    "        column_names=df.columns.tolist(),\n",
    "    )\n",
    "%vdk-run"
   ]
  }
 ],
 "metadata": {
  "kernelspec": {
   "display_name": "Python 3 (ipykernel)",
   "language": "python",
   "name": "python3"
  },
  "language_info": {
   "codemirror_mode": {
    "name": "ipython",
    "version": 3
   },
   "file_extension": ".py",
   "mimetype": "text/x-python",
   "name": "python",
   "nbconvert_exporter": "python",
   "pygments_lexer": "ipython3",
   "version": "3.10.6"
  }
 },
 "nbformat": 4,
 "nbformat_minor": 5
}
