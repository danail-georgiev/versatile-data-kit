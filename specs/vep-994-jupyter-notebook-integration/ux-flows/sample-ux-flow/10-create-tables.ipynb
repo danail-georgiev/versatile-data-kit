{
 "cells": [
  {
   "cell_type": "markdown",
   "id": "9813e876-dd74-49f4-9dc0-114da1dbda8f",
   "metadata": {
    "tags": []
   },
   "source": [
    "<h3>Drop tables</h3>\n"
   ]
  },
  {
   "cell_type": "code",
   "execution_count": null,
   "id": "961504a1-1998-4fd7-a4f0-6777916aa26f",
   "metadata": {
    "tags": [
     "vdk-sql"
    ]
   },
   "outputs": [],
   "source": [
    "%sql DROP TABLE IF EXISTS life_expectancy_2010_2015"
   ]
  },
  {
   "cell_type": "code",
   "execution_count": null,
   "id": "9c3f754e-22c3-48a0-bb5f-991618a2e6e1",
   "metadata": {
    "tags": [
     "vdk-sql"
    ]
   },
   "outputs": [],
   "source": [
    "%sql DROP TABLE IF EXISTS life_expectancy_2018"
   ]
  },
  {
   "cell_type": "code",
   "execution_count": null,
   "id": "a5399725-7a09-4e63-be2c-0d16dd06b870",
   "metadata": {
    "tags": [
     "vdk-sql"
    ]
   },
   "outputs": [],
   "source": [
    "%sql DROP TABLE IF EXISTS us_regions"
   ]
  },
  {
   "cell_type": "code",
   "execution_count": null,
   "id": "ed8eecff-c2e5-4824-b312-aed16c6913ba",
   "metadata": {
    "tags": [
     "vdk-sql"
    ]
   },
   "outputs": [],
   "source": [
    "%sql DROP TABLE IF EXISTS us_gdp"
   ]
  },
  {
   "cell_type": "markdown",
   "id": "c5f97015-8b63-47fd-8e79-21405f6157e4",
   "metadata": {
    "tags": []
   },
   "source": [
    "<h3>Create tables</h3>"
   ]
  },
  {
   "cell_type": "code",
   "execution_count": null,
   "id": "a6f6a803-3494-465a-9b9a-3d62fd47c5af",
   "metadata": {
    "tags": [
     "vdk-sql",
     "vdk-py"
    ]
   },
   "outputs": [],
   "source": [
    "%sql CREATE TABLE life_expectancy_2010_2015 (\n",
    "   State varchar(32),\n",
    "   County varchar(32),\n",
    "   CensusTractNumber varchar(32),\n",
    "   LifeExpectancy decimal(4,2),\n",
    "   LifeExpectancyRange varchar,\n",
    "   LifeExpectancyStandardError decimal(4,2)\n",
    ")"
   ]
  },
  {
   "cell_type": "code",
   "execution_count": null,
   "id": "7a80bc14-1365-48f9-89c1-3ce3f79b47d5",
   "metadata": {},
   "outputs": [],
   "source": [
    "#random select statement"
   ]
  },
  {
   "cell_type": "code",
   "execution_count": null,
   "id": "fec65eae-9a8e-439b-9872-37849566e59c",
   "metadata": {
    "tags": [
     "vdk-sql"
    ]
   },
   "outputs": [],
   "source": [
    "%sql CREATE TABLE life_expectancy_2018 (\n",
    "   State varchar(32),\n",
    "   Sex varchar(32),\n",
    "   LEB decimal(3,1),\n",
    "   SE decimal(3,1),\n",
    "   Quartile varchar(32)\n",
    ")"
   ]
  },
  {
   "cell_type": "code",
   "execution_count": null,
   "id": "f01ee30b-cfb5-4fb2-a4ce-5fc33d29bbd3",
   "metadata": {
    "tags": [
     "vdk-sql"
    ]
   },
   "outputs": [],
   "source": [
    "%sql CREATE TABLE us_regions (\n",
    "   State varchar(32),\n",
    "   StateCode varchar(2),\n",
    "   Region varchar(32),\n",
    "   Division varchar(32)\n",
    ")"
   ]
  },
  {
   "cell_type": "code",
   "execution_count": null,
   "id": "deac6698-4311-40ba-b4fd-3a928122858d",
   "metadata": {},
   "outputs": [],
   "source": [
    "#randome code"
   ]
  },
  {
   "cell_type": "code",
   "execution_count": null,
   "id": "beb900b1-c442-449d-934d-392c5a53074f",
   "metadata": {
    "tags": []
   },
   "outputs": [],
   "source": [
    "%sql CREATE TABLE us_gdp (\n",
    "   County varchar(32),\n",
    "   Year2017 bigint,\n",
    "   Year2018 bigint,\n",
    "   Year2019 bigint,\n",
    "   Year2020 bigint\n",
    ")"
   ]
  },
  {
   "cell_type": "code",
   "execution_count": null,
   "id": "a37cc230-82f1-488a-acb9-af761867896d",
   "metadata": {},
   "outputs": [],
   "source": []
  }
 ],
 "metadata": {
  "kernelspec": {
   "display_name": "Python 3 (ipykernel)",
   "language": "python",
   "name": "python3"
  },
  "language_info": {
   "codemirror_mode": {
    "name": "ipython",
    "version": 3
   },
   "file_extension": ".py",
   "mimetype": "text/x-python",
   "name": "python",
   "nbconvert_exporter": "python",
   "pygments_lexer": "ipython3",
   "version": "3.10.6"
  }
 },
 "nbformat": 4,
 "nbformat_minor": 5
}
