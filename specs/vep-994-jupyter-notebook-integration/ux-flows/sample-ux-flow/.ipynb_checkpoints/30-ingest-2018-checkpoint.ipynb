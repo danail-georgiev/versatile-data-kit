{
 "cells": [
  {
   "cell_type": "code",
   "execution_count": null,
   "id": "089eea30-4416-4196-95d8-ce9c8acfe01b",
   "metadata": {
    "tags": [
     "vdk-py"
    ]
   },
   "outputs": [],
   "source": [
    "import numpy as np\n",
    "import pandas as pd"
   ]
  },
  {
   "cell_type": "code",
   "execution_count": null,
   "id": "d20b03dd-9490-48ea-b4d5-3e0691984640",
   "metadata": {},
   "outputs": [],
   "source": []
  },
  {
   "cell_type": "code",
   "execution_count": null,
   "id": "f19fb276-8737-45e4-adbc-7e125cb6b39e",
   "metadata": {},
   "outputs": [],
   "source": [
    "def other_changes_on_df(df):\n",
    "    #other changes\n",
    "    return df"
   ]
  },
  {
   "cell_type": "code",
   "execution_count": null,
   "id": "77f1a9bc-1950-40e4-804f-ef34826d2043",
   "metadata": {},
   "outputs": [],
   "source": [
    "def some_changes_on_df(df):\n",
    "    #some changes\n",
    "    return df"
   ]
  },
  {
   "cell_type": "code",
   "execution_count": null,
   "id": "268e3a8d-e5bd-414b-a9c1-7ccfc262fa1e",
   "metadata": {
    "tags": [
     "vdk-py"
    ]
   },
   "outputs": [],
   "source": [
    "def get_df()\n",
    "    url = \"http://data.cdc.gov/api/views/a5a8-jsrq/rows.csv\"\n",
    "    dtypes = {\n",
    "        \"State\": str,\n",
    "        \"Sex\": str,\n",
    "        \"LEB\": np.float64,\n",
    "        \"SE\": np.float64,\n",
    "        \"Quartile\": str,\n",
    "    }\n",
    "    df = pd.read_csv(url, dtype=dtypes, na_values=\"*\") \n",
    "    return df"
   ]
  },
  {
   "cell_type": "code",
   "execution_count": null,
   "id": "ab96b41d-8ad6-4268-9ca7-21613104d9f8",
   "metadata": {
    "tags": [
     "vdk-py"
    ]
   },
   "outputs": [],
   "source": [
    "def run(job_input: IJobInput)\n",
    "    df = get_df()\n",
    "    some_changes_on_df(df)\n",
    "    job_input.send_tabular_data_for_ingestion(\n",
    "        df.itertuples(index=False),\n",
    "        destination_table=\"life_expectancy_2018\",\n",
    "        column_names=df.columns.tolist(),\n",
    ")"
   ]
  },
  {
   "cell_type": "markdown",
   "id": "9378b971-ee37-413f-9b89-bc68ec1abf5c",
   "metadata": {},
   "source": [
    "<h3>Tests</h3>"
   ]
  },
  {
   "cell_type": "code",
   "execution_count": null,
   "id": "821c47fe-d35e-4008-9fb6-bc7175684cd7",
   "metadata": {},
   "outputs": [],
   "source": [
    "df = get_df()"
   ]
  },
  {
   "cell_type": "code",
   "execution_count": null,
   "id": "b9e68ceb-8eed-4487-9148-73ac96f8f9d8",
   "metadata": {},
   "outputs": [],
   "source": [
    "#testing some changes\n",
    "df = some_changes_on_df(df)\n",
    "print(df)"
   ]
  },
  {
   "cell_type": "code",
   "execution_count": null,
   "id": "8171624c-bd43-431c-aaa3-dd0c2a52f153",
   "metadata": {},
   "outputs": [],
   "source": [
    "#testing other changes\n",
    "df = other_changes_on_df(df)\n",
    "print(df)"
   ]
  }
 ],
 "metadata": {
  "kernelspec": {
   "display_name": "Python 3 (ipykernel)",
   "language": "python",
   "name": "python3"
  },
  "language_info": {
   "codemirror_mode": {
    "name": "ipython",
    "version": 3
   },
   "file_extension": ".py",
   "mimetype": "text/x-python",
   "name": "python",
   "nbconvert_exporter": "python",
   "pygments_lexer": "ipython3",
   "version": "3.10.6"
  }
 },
 "nbformat": 4,
 "nbformat_minor": 5
}
