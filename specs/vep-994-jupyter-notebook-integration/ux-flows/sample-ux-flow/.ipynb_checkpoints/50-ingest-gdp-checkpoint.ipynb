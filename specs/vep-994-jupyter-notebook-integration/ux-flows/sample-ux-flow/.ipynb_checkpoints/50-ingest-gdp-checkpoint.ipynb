{
 "cells": [
  {
   "cell_type": "code",
   "execution_count": null,
   "id": "4699cc1f-38e6-4a9c-a738-590e1faf6ad5",
   "metadata": {
    "tags": [
     "vdk-py"
    ]
   },
   "outputs": [],
   "source": [
    "import pandas as pd"
   ]
  },
  {
   "cell_type": "code",
   "execution_count": null,
   "id": "7958b04a-c956-48e6-857d-8c2dc013d357",
   "metadata": {},
   "outputs": [],
   "source": []
  },
  {
   "cell_type": "code",
   "execution_count": null,
   "id": "dbb66571-a8eb-45c1-bbb0-5cd9ae50e878",
   "metadata": {},
   "outputs": [],
   "source": [
    "def get_df():\n",
    "    url = \"https://www.bea.gov/sites/default/files/2021-12/lagdp1221.xlsx\"\n",
    "    df = pd.read_excel(url, header=3, na_values=\"(NA)\").replace(\"'\", \"''\", regex=True)\n",
    "    return df"
   ]
  },
  {
   "cell_type": "code",
   "execution_count": null,
   "id": "cf85b1b0-fa60-4483-95df-ea9f1a7f5beb",
   "metadata": {
    "tags": [
     "vdk-py"
    ]
   },
   "outputs": [],
   "source": [
    "def rename_unnamed(df):\n",
    "    df = df[[\"Unnamed: 0\", 2017, 2018, 2019, 2020]]\n",
    "    df.rename(\n",
    "        {\n",
    "            \"Unnamed: 0\": \"County\",\n",
    "            2017: \"Year2017\",\n",
    "            2018: \"Year2018\",\n",
    "            2019: \"Year2019\",\n",
    "            2020: \"Year2020\",\n",
    "        },\n",
    "        axis=1,\n",
    "        inplace=True,\n",
    "    )\n",
    "    return df"
   ]
  },
  {
   "cell_type": "code",
   "execution_count": null,
   "id": "b3fbcf9d-c8c3-4148-8509-bd342d79a1ed",
   "metadata": {
    "tags": [
     "vdk-py"
    ]
   },
   "outputs": [],
   "source": [
    "def run(job_input: IJobInput):\n",
    "    df = rename_unnamed(get_df())\n",
    "    df.dropna(axis=0, inplace=True)\n",
    "    job_input.send_tabular_data_for_ingestion(\n",
    "        df.itertuples(index=False),\n",
    "        destination_table=\"us_gdp\",\n",
    "        column_names=df.columns.tolist(),\n",
    "    ) "
   ]
  },
  {
   "cell_type": "code",
   "execution_count": null,
   "id": "ee6e3351-0640-48b4-b147-0261be602db9",
   "metadata": {
    "tags": []
   },
   "outputs": [],
   "source": [
    "#test\n",
    "df = get_df()\n",
    "rename_unnamed(df)\n",
    "display(df)"
   ]
  }
 ],
 "metadata": {
  "kernelspec": {
   "display_name": "Python 3 (ipykernel)",
   "language": "python",
   "name": "python3"
  },
  "language_info": {
   "codemirror_mode": {
    "name": "ipython",
    "version": 3
   },
   "file_extension": ".py",
   "mimetype": "text/x-python",
   "name": "python",
   "nbconvert_exporter": "python",
   "pygments_lexer": "ipython3",
   "version": "3.10.6"
  }
 },
 "nbformat": 4,
 "nbformat_minor": 5
}
