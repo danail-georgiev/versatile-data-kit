{
 "cells": [
  {
   "cell_type": "code",
   "execution_count": null,
   "id": "af3303c7-0978-4b87-87ef-93a892064aa6",
   "metadata": {
    "tags": [
     "vdk-sql"
    ]
   },
   "outputs": [],
   "source": [
    "%sql CREATE TABLE cleaned_life_expectancy_2010_2015 AS\n",
    "(SELECT State,\n",
    "   LifeExpectancy,\n",
    "   cast(split(life_expectancy_2010_2015.LifeExpectancyRange,'-')[1] AS decimal(4,2)) AS MinLifeExpectancyRange,\n",
    "   cast(split(life_expectancy_2010_2015.LifeExpectancyRange,'-')[2] AS decimal(4,2)) AS MaxLifeExpectancyRange,\n",
    "   LifeExpectancyStandardError\n",
    "FROM life_expectancy_2010_2015\n",
    "WHERE County = '(blank)'\n",
    ")"
   ]
  },
  {
   "cell_type": "code",
   "execution_count": null,
   "id": "a538ccea-ddd8-4183-835c-b2ccb6b38e0d",
   "metadata": {
    "tags": [
     "vdk-sql"
    ]
   },
   "outputs": [],
   "source": [
    "%sql CREATE TABLE cleaned_life_expectancy_2018 AS\n",
    "(SELECT State,\n",
    "    LEB AS LifeExpectancy,\n",
    "    cast(split(life_expectancy_2018.Quartile,' - ')[1] AS decimal(4,2)) AS MinLifeExpectancyRange,\n",
    "    cast(split(life_expectancy_2018.Quartile,' - ')[2] AS decimal(4,2)) AS MaxLifeExpectancyRange,\n",
    "    SE AS LifeExpectancyStandardError\n",
    "  FROM life_expectancy_2018\n",
    "  WHERE Sex = 'Total' and State <> 'United States'\n",
    ")"
   ]
  },
  {
   "cell_type": "code",
   "execution_count": null,
   "id": "ded51f48-8c56-4e5f-a5b8-2e02bccc0448",
   "metadata": {},
   "outputs": [],
   "source": [
    "%sql SELECT * "
   ]
  },
  {
   "cell_type": "code",
   "execution_count": null,
   "id": "d6f06a3e-79cb-4155-b73f-99cb2c357ccd",
   "metadata": {
    "tags": [
     "vdk-sql"
    ]
   },
   "outputs": [],
   "source": [
    "%sql CREATE TABLE merged_life_expectancy AS\n",
    "(SELECT us_regions.State,\n",
    "    LifeExpectancy,\n",
    "    MinLifeExpectancyRange,\n",
    "    MaxLifeExpectancyRange,\n",
    "    '2010-2015' AS Period,\n",
    "    Region,\n",
    "    0 AS GDP\n",
    " FROM cleaned_life_expectancy_2010_2015 \n",
    "     JOIN us_regions \n",
    "     ON us_regions.State = cleaned_life_expectancy_2010_2015.State\n",
    ")\n",
    "UNION\n",
    "(SELECT us_regions.State,\n",
    "    LifeExpectancy,\n",
    "    MinLifeExpectancyRange,\n",
    "    MaxLifeExpectancyRange,\n",
    "    '2018' AS Period,\n",
    "    Region,\n",
    "    Year2018 AS GDP\n",
    "FROM cleaned_life_expectancy_2018\n",
    "    JOIN us_regions \n",
    "    ON us_regions.State = cleaned_life_expectancy_2018.State\n",
    "    INNER JOIN us_gdp \n",
    "    ON us_gdp.County = cleaned_life_expectancy_2018.State\n",
    "WHERE Year2018 > 100000000\n",
    ")"
   ]
  }
 ],
 "metadata": {
  "kernelspec": {
   "display_name": "Python 3 (ipykernel)",
   "language": "python",
   "name": "python3"
  },
  "language_info": {
   "codemirror_mode": {
    "name": "ipython",
    "version": 3
   },
   "file_extension": ".py",
   "mimetype": "text/x-python",
   "name": "python",
   "nbconvert_exporter": "python",
   "pygments_lexer": "ipython3",
   "version": "3.10.6"
  }
 },
 "nbformat": 4,
 "nbformat_minor": 5
}
