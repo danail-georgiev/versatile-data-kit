{
 "cells": [
  {
   "cell_type": "code",
   "execution_count": null,
   "id": "6b5a335b-2e3a-4681-ac60-298fa71310c3",
   "metadata": {
    "tags": [
     "vdk"
    ]
   },
   "outputs": [],
   "source": [
    "import requests"
   ]
  },
  {
   "cell_type": "code",
   "execution_count": null,
   "id": "37644a16-0c11-4eaa-a9db-e704844dd50b",
   "metadata": {
    "tags": [
     "vdk"
    ]
   },
   "outputs": [],
   "source": [
    "def run(job_input):\n",
    "    response = requests.get(\"https://jsonplaceholder.typicode.com/todos/1\")\n",
    "    response.raise_for_status()\n",
    "    payload = response.json()\n",
    "    job_input.send_object_for_ingestion(\n",
    "        payload=payload,\n",
    "        destination_table=\"rest_target_table\"\n",
    "    )"
   ]
  }
 ],
 "metadata": {
  "kernelspec": {
   "display_name": "Python 3 (ipykernel)",
   "language": "python",
   "name": "python3"
  },
  "language_info": {
   "codemirror_mode": {
    "name": "ipython",
    "version": 3
   },
   "file_extension": ".py",
   "mimetype": "text/x-python",
   "name": "python",
   "nbconvert_exporter": "python",
   "pygments_lexer": "ipython3",
   "version": "3.9.12"
  }
 },
 "nbformat": 4,
 "nbformat_minor": 5
}
