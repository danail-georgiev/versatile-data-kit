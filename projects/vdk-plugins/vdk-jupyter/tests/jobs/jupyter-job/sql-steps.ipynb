{
 "cells": [
  {
   "cell_type": "code",
   "execution_count": null,
   "id": "e7e3a860-8f5e-4e0a-9f88-cc2ecec4f679",
   "metadata": {
    "tags": [
     "vdk"
    ],
    "pycharm": {
     "name": "#%%\n"
    }
   },
   "outputs": [],
   "source": [
    "%sql DROP TABLE IF EXISTS rest_target_table;"
   ]
  },
  {
   "cell_type": "code",
   "execution_count": null,
   "id": "9ed4c9f4-433b-4e12-bf2d-fa75b2d2702b",
   "metadata": {
    "tags": [
     "vdk"
    ],
    "pycharm": {
     "name": "#%%\n"
    }
   },
   "outputs": [],
   "source": [
    "%sql CREATE TABLE rest_target_table (userId, id, title, completed);"
   ]
  }
 ],
 "metadata": {
  "kernelspec": {
   "display_name": "Python 3 (ipykernel)",
   "language": "python",
   "name": "python3"
  },
  "language_info": {
   "codemirror_mode": {
    "name": "ipython",
    "version": 3
   },
   "file_extension": ".py",
   "mimetype": "text/x-python",
   "name": "python",
   "nbconvert_exporter": "python",
   "pygments_lexer": "ipython3",
   "version": "3.9.12"
  }
 },
 "nbformat": 4,
 "nbformat_minor": 5
}
