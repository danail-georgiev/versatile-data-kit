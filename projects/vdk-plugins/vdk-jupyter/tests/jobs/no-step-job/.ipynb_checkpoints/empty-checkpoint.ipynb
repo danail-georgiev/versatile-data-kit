{
 "cells": [
  {
   "cell_type": "code",
   "execution_count": null,
   "id": "203949bb-6480-48e7-97f5-90b0d93b5292",
   "metadata": {},
   "outputs": [],
   "source": []
  }
 ],
 "metadata": {
  "kernelspec": {
   "display_name": "Python 3 (ipykernel)",
   "language": "python",
   "name": "python3"
  },
  "language_info": {
   "codemirror_mode": {
    "name": "ipython",
    "version": 3
   },
   "file_extension": ".py",
   "mimetype": "text/x-python",
   "name": "python",
   "nbconvert_exporter": "python",
   "pygments_lexer": "ipython3",
   "version": "3.9.12"
  }
 },
 "nbformat": 4,
 "nbformat_minor": 5
}
